{
 "metadata": {
  "name": ""
 },
 "nbformat": 3,
 "nbformat_minor": 0,
 "worksheets": [
  {
   "cells": [
    {
     "cell_type": "raw",
     "metadata": {},
     "source": [
      "0011110000\n",
      "call CX $me\n",
      "add 00010101010 CL LT"
     ]
    }
   ],
   "metadata": {}
  }
 ]
}